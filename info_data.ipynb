{
 "cells": [
  {
   "cell_type": "markdown",
   "metadata": {},
   "source": [
    "## Data Info\n",
    "Getting the data info such as data size, number of feature, number of records, mean value, max value, etc...."
   ]
  },
  {
   "cell_type": "code",
   "execution_count": 41,
   "metadata": {},
   "outputs": [],
   "source": [
    "import pandas as pd"
   ]
  },
  {
   "cell_type": "code",
   "execution_count": 42,
   "metadata": {},
   "outputs": [],
   "source": [
    "crime_data = pd.read_csv('Crimes_2001_to_Present.csv')"
   ]
  },
  {
   "cell_type": "code",
   "execution_count": 67,
   "metadata": {},
   "outputs": [
    {
     "name": "stdout",
     "output_type": "stream",
     "text": [
      "<class 'pandas.core.frame.DataFrame'>\n",
      "RangeIndex: 8000075 entries, 0 to 8000074\n",
      "Data columns (total 23 columns):\n",
      " #   Column                Dtype         \n",
      "---  ------                -----         \n",
      " 0   ID                    int64         \n",
      " 1   Case Number           object        \n",
      " 2   Date                  object        \n",
      " 3   Block                 object        \n",
      " 4   IUCR                  object        \n",
      " 5   Primary Type          object        \n",
      " 6   Description           object        \n",
      " 7   Location Description  object        \n",
      " 8   Arrest                bool          \n",
      " 9   Domestic              bool          \n",
      " 10  Beat                  int64         \n",
      " 11  District              float64       \n",
      " 12  Ward                  float64       \n",
      " 13  Community Area        float64       \n",
      " 14  FBI Code              object        \n",
      " 15  X Coordinate          float64       \n",
      " 16  Y Coordinate          float64       \n",
      " 17  Year                  int64         \n",
      " 18  Updated On            object        \n",
      " 19  Latitude              float64       \n",
      " 20  Longitude             float64       \n",
      " 21  Location              object        \n",
      " 22  New_Date              datetime64[ns]\n",
      "dtypes: bool(2), datetime64[ns](1), float64(7), int64(3), object(10)\n",
      "memory usage: 1.3+ GB\n"
     ]
    }
   ],
   "source": [
    "crime_data.info()"
   ]
  },
  {
   "cell_type": "markdown",
   "metadata": {},
   "source": [
    "## Converting the Date\n"
   ]
  },
  {
   "cell_type": "code",
   "execution_count": 61,
   "metadata": {},
   "outputs": [],
   "source": [
    "\n",
    "crime_data['New_Date'] = pd.to_datetime(crime_data['Date'])\n",
    "# crime_data['New_Date'] = crime_data['New_Date'].dt.strftime('%m-%d-%Y %H:%M:%S')"
   ]
  },
  {
   "cell_type": "code",
   "execution_count": 62,
   "metadata": {},
   "outputs": [
    {
     "data": {
      "text/plain": [
       "0   2015-03-18 12:00:00\n",
       "Name: New_Date, dtype: datetime64[ns]"
      ]
     },
     "execution_count": 62,
     "metadata": {},
     "output_type": "execute_result"
    }
   ],
   "source": [
    "# comparing the old date value format to the datetime value format\n",
    "crime_data[['Date', 'New_Date']]"
   ]
  },
  {
   "cell_type": "code",
   "execution_count": 65,
   "metadata": {},
   "outputs": [
    {
     "name": "stdout",
     "output_type": "stream",
     "text": [
      "ID                      734075\n",
      "Case Number             734075\n",
      "Date                    734075\n",
      "Block                   734075\n",
      "IUCR                    734075\n",
      "Primary Type            734075\n",
      "Description             734075\n",
      "Location Description    730589\n",
      "Arrest                  734075\n",
      "Domestic                734075\n",
      "Beat                    734075\n",
      "District                734075\n",
      "Ward                    734051\n",
      "Community Area          734074\n",
      "FBI Code                734075\n",
      "X Coordinate            723460\n",
      "Y Coordinate            723460\n",
      "Year                    734075\n",
      "Updated On              734075\n",
      "Latitude                723460\n",
      "Longitude               723460\n",
      "Location                723460\n",
      "New_Date                734075\n",
      "dtype: int64\n",
      "Max new_date value:  2024-02-10 00:00:00\n",
      "Min new_date value:  2001-01-01 00:00:00\n"
     ]
    }
   ],
   "source": [
    "print(crime_data[crime_data['New_Date'].dt.year >= 2021].count()) # How many records we have from 2021 to 2024\n",
    "print(\"Max new_date value: \", crime_data['New_Date'].max()) # Latest record of 2024\n",
    "print(\"Min new_date value: \", crime_data['New_Date'].min()) # Earliest record of 2021"
   ]
  }
 ],
 "metadata": {
  "kernelspec": {
   "display_name": "cs418env",
   "language": "python",
   "name": "python3"
  },
  "language_info": {
   "codemirror_mode": {
    "name": "ipython",
    "version": 3
   },
   "file_extension": ".py",
   "mimetype": "text/x-python",
   "name": "python",
   "nbconvert_exporter": "python",
   "pygments_lexer": "ipython3",
   "version": "3.11.5"
  }
 },
 "nbformat": 4,
 "nbformat_minor": 2
}
