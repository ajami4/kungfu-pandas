{
 "cells": [
  {
   "cell_type": "markdown",
   "metadata": {},
   "source": [
    "## Data Info\n",
    "Getting the data info such as data size, number of feature, number of records, mean value, max value, etc...."
   ]
  },
  {
   "cell_type": "code",
   "execution_count": 2,
   "metadata": {},
   "outputs": [],
   "source": [
    "import pandas as pd"
   ]
  },
  {
   "cell_type": "code",
   "execution_count": 3,
   "metadata": {},
   "outputs": [],
   "source": [
    "crime_data = pd.read_csv('Crimes_2001_to_Present.csv')"
   ]
  },
  {
   "cell_type": "code",
   "execution_count": 4,
   "metadata": {},
   "outputs": [
    {
     "name": "stdout",
     "output_type": "stream",
     "text": [
      "<class 'pandas.core.frame.DataFrame'>\n",
      "RangeIndex: 8000075 entries, 0 to 8000074\n",
      "Data columns (total 22 columns):\n",
      " #   Column                Dtype  \n",
      "---  ------                -----  \n",
      " 0   ID                    int64  \n",
      " 1   Case Number           object \n",
      " 2   Date                  object \n",
      " 3   Block                 object \n",
      " 4   IUCR                  object \n",
      " 5   Primary Type          object \n",
      " 6   Description           object \n",
      " 7   Location Description  object \n",
      " 8   Arrest                bool   \n",
      " 9   Domestic              bool   \n",
      " 10  Beat                  int64  \n",
      " 11  District              float64\n",
      " 12  Ward                  float64\n",
      " 13  Community Area        float64\n",
      " 14  FBI Code              object \n",
      " 15  X Coordinate          float64\n",
      " 16  Y Coordinate          float64\n",
      " 17  Year                  int64  \n",
      " 18  Updated On            object \n",
      " 19  Latitude              float64\n",
      " 20  Longitude             float64\n",
      " 21  Location              object \n",
      "dtypes: bool(2), float64(7), int64(3), object(10)\n",
      "memory usage: 1.2+ GB\n"
     ]
    }
   ],
   "source": [
    "crime_data.info()"
   ]
  },
  {
   "cell_type": "markdown",
   "metadata": {},
   "source": [
    "## Converting the Arrest Feature data type\n",
    "bool -> int"
   ]
  },
  {
   "cell_type": "code",
   "execution_count": 19,
   "metadata": {},
   "outputs": [
    {
     "data": {
      "text/plain": [
       "array([0, 1])"
      ]
     },
     "execution_count": 19,
     "metadata": {},
     "output_type": "execute_result"
    }
   ],
   "source": [
    "crime_data['Arrest'] = crime_data['Arrest'].replace({\n",
    "    True:1,\n",
    "    False:0\n",
    "})\n",
    "\n",
    "crime_data['Arrest'].unique()"
   ]
  },
  {
   "cell_type": "markdown",
   "metadata": {},
   "source": [
    "## Converting the Date\n"
   ]
  },
  {
   "cell_type": "code",
   "execution_count": 5,
   "metadata": {},
   "outputs": [],
   "source": [
    "\n",
    "crime_data['New_Date'] = pd.to_datetime(crime_data['Date'])\n",
    "# crime_data['New_Date'] = crime_data['New_Date'].dt.strftime('%m-%d-%Y %H:%M:%S')"
   ]
  },
  {
   "cell_type": "code",
   "execution_count": 6,
   "metadata": {},
   "outputs": [
    {
     "data": {
      "text/html": [
       "<div>\n",
       "<style scoped>\n",
       "    .dataframe tbody tr th:only-of-type {\n",
       "        vertical-align: middle;\n",
       "    }\n",
       "\n",
       "    .dataframe tbody tr th {\n",
       "        vertical-align: top;\n",
       "    }\n",
       "\n",
       "    .dataframe thead th {\n",
       "        text-align: right;\n",
       "    }\n",
       "</style>\n",
       "<table border=\"1\" class=\"dataframe\">\n",
       "  <thead>\n",
       "    <tr style=\"text-align: right;\">\n",
       "      <th></th>\n",
       "      <th>Date</th>\n",
       "      <th>New_Date</th>\n",
       "    </tr>\n",
       "  </thead>\n",
       "  <tbody>\n",
       "    <tr>\n",
       "      <th>0</th>\n",
       "      <td>03/18/2015 12:00:00 PM</td>\n",
       "      <td>2015-03-18 12:00:00</td>\n",
       "    </tr>\n",
       "    <tr>\n",
       "      <th>1</th>\n",
       "      <td>12/20/2018 03:00:00 PM</td>\n",
       "      <td>2018-12-20 15:00:00</td>\n",
       "    </tr>\n",
       "    <tr>\n",
       "      <th>2</th>\n",
       "      <td>05/01/2016 12:25:00 AM</td>\n",
       "      <td>2016-05-01 00:25:00</td>\n",
       "    </tr>\n",
       "    <tr>\n",
       "      <th>3</th>\n",
       "      <td>12/20/2018 04:00:00 PM</td>\n",
       "      <td>2018-12-20 16:00:00</td>\n",
       "    </tr>\n",
       "    <tr>\n",
       "      <th>4</th>\n",
       "      <td>06/01/2014 12:01:00 AM</td>\n",
       "      <td>2014-06-01 00:01:00</td>\n",
       "    </tr>\n",
       "    <tr>\n",
       "      <th>...</th>\n",
       "      <td>...</td>\n",
       "      <td>...</td>\n",
       "    </tr>\n",
       "    <tr>\n",
       "      <th>8000070</th>\n",
       "      <td>08/10/2020 08:30:00 PM</td>\n",
       "      <td>2020-08-10 20:30:00</td>\n",
       "    </tr>\n",
       "    <tr>\n",
       "      <th>8000071</th>\n",
       "      <td>06/18/2020 09:00:00 PM</td>\n",
       "      <td>2020-06-18 21:00:00</td>\n",
       "    </tr>\n",
       "    <tr>\n",
       "      <th>8000072</th>\n",
       "      <td>07/27/2020 03:02:00 PM</td>\n",
       "      <td>2020-07-27 15:02:00</td>\n",
       "    </tr>\n",
       "    <tr>\n",
       "      <th>8000073</th>\n",
       "      <td>08/14/2020 03:00:00 PM</td>\n",
       "      <td>2020-08-14 15:00:00</td>\n",
       "    </tr>\n",
       "    <tr>\n",
       "      <th>8000074</th>\n",
       "      <td>03/06/2020 02:00:00 PM</td>\n",
       "      <td>2020-03-06 14:00:00</td>\n",
       "    </tr>\n",
       "  </tbody>\n",
       "</table>\n",
       "<p>8000075 rows × 2 columns</p>\n",
       "</div>"
      ],
      "text/plain": [
       "                           Date            New_Date\n",
       "0        03/18/2015 12:00:00 PM 2015-03-18 12:00:00\n",
       "1        12/20/2018 03:00:00 PM 2018-12-20 15:00:00\n",
       "2        05/01/2016 12:25:00 AM 2016-05-01 00:25:00\n",
       "3        12/20/2018 04:00:00 PM 2018-12-20 16:00:00\n",
       "4        06/01/2014 12:01:00 AM 2014-06-01 00:01:00\n",
       "...                         ...                 ...\n",
       "8000070  08/10/2020 08:30:00 PM 2020-08-10 20:30:00\n",
       "8000071  06/18/2020 09:00:00 PM 2020-06-18 21:00:00\n",
       "8000072  07/27/2020 03:02:00 PM 2020-07-27 15:02:00\n",
       "8000073  08/14/2020 03:00:00 PM 2020-08-14 15:00:00\n",
       "8000074  03/06/2020 02:00:00 PM 2020-03-06 14:00:00\n",
       "\n",
       "[8000075 rows x 2 columns]"
      ]
     },
     "execution_count": 6,
     "metadata": {},
     "output_type": "execute_result"
    }
   ],
   "source": [
    "# comparing the old date value format to the datetime value format\n",
    "crime_data[['Date', 'New_Date']]"
   ]
  },
  {
   "cell_type": "code",
   "execution_count": 7,
   "metadata": {},
   "outputs": [
    {
     "name": "stdout",
     "output_type": "stream",
     "text": [
      "ID                      734075\n",
      "Case Number             734075\n",
      "Date                    734075\n",
      "Block                   734075\n",
      "IUCR                    734075\n",
      "Primary Type            734075\n",
      "Description             734075\n",
      "Location Description    730589\n",
      "Arrest                  734075\n",
      "Domestic                734075\n",
      "Beat                    734075\n",
      "District                734075\n",
      "Ward                    734051\n",
      "Community Area          734074\n",
      "FBI Code                734075\n",
      "X Coordinate            723460\n",
      "Y Coordinate            723460\n",
      "Year                    734075\n",
      "Updated On              734075\n",
      "Latitude                723460\n",
      "Longitude               723460\n",
      "Location                723460\n",
      "New_Date                734075\n",
      "dtype: int64\n",
      "Max new_date value:  2024-02-10 00:00:00\n",
      "Min new_date value:  2001-01-01 00:00:00\n"
     ]
    }
   ],
   "source": [
    "print(crime_data[crime_data['New_Date'].dt.year >= 2021].count()) # How many records we have from 2021 to 2024\n",
    "print(\"Max new_date value: \", crime_data['New_Date'].max()) # Latest record of 2024\n",
    "print(\"Min new_date value: \", crime_data['New_Date'].min()) # Earliest record of 2021"
   ]
  },
  {
   "cell_type": "code",
   "execution_count": 8,
   "metadata": {},
   "outputs": [],
   "source": [
    "crime_data = crime_data[crime_data['New_Date'].dt.year >= 2021]"
   ]
  },
  {
   "cell_type": "code",
   "execution_count": 9,
   "metadata": {},
   "outputs": [
    {
     "name": "stdout",
     "output_type": "stream",
     "text": [
      "Min new_date value:  2021-01-01 00:00:00\n",
      "[2023 2021 2022 2024]\n"
     ]
    }
   ],
   "source": [
    "print(\"Min new_date value: \", crime_data['New_Date'].min()) # Earliest record of 2021\n",
    "print(crime_data['New_Date'].dt.year.unique()) # Making sure that the range (2021-2024)"
   ]
  },
  {
   "cell_type": "code",
   "execution_count": 14,
   "metadata": {},
   "outputs": [
    {
     "data": {
      "text/html": [
       "<div>\n",
       "<style scoped>\n",
       "    .dataframe tbody tr th:only-of-type {\n",
       "        vertical-align: middle;\n",
       "    }\n",
       "\n",
       "    .dataframe tbody tr th {\n",
       "        vertical-align: top;\n",
       "    }\n",
       "\n",
       "    .dataframe thead th {\n",
       "        text-align: right;\n",
       "    }\n",
       "</style>\n",
       "<table border=\"1\" class=\"dataframe\">\n",
       "  <thead>\n",
       "    <tr style=\"text-align: right;\">\n",
       "      <th></th>\n",
       "      <th>ID</th>\n",
       "      <th>Case Number</th>\n",
       "      <th>Date</th>\n",
       "      <th>Block</th>\n",
       "      <th>IUCR</th>\n",
       "      <th>Primary Type</th>\n",
       "      <th>Description</th>\n",
       "      <th>Location Description</th>\n",
       "      <th>Arrest</th>\n",
       "      <th>Domestic</th>\n",
       "      <th>...</th>\n",
       "      <th>Community Area</th>\n",
       "      <th>FBI Code</th>\n",
       "      <th>X Coordinate</th>\n",
       "      <th>Y Coordinate</th>\n",
       "      <th>Year</th>\n",
       "      <th>Updated On</th>\n",
       "      <th>Latitude</th>\n",
       "      <th>Longitude</th>\n",
       "      <th>Location</th>\n",
       "      <th>New_Date</th>\n",
       "    </tr>\n",
       "  </thead>\n",
       "  <tbody>\n",
       "    <tr>\n",
       "      <th>371</th>\n",
       "      <td>13204489</td>\n",
       "      <td>JG416325</td>\n",
       "      <td>09/06/2023 11:00:00 AM</td>\n",
       "      <td>0000X E 8TH ST</td>\n",
       "      <td>0810</td>\n",
       "      <td>THEFT</td>\n",
       "      <td>OVER $500</td>\n",
       "      <td>PARKING LOT / GARAGE (NON RESIDENTIAL)</td>\n",
       "      <td>False</td>\n",
       "      <td>False</td>\n",
       "      <td>...</td>\n",
       "      <td>32.0</td>\n",
       "      <td>06</td>\n",
       "      <td>1176857.0</td>\n",
       "      <td>1896680.0</td>\n",
       "      <td>2023</td>\n",
       "      <td>11/04/2023 03:40:18 PM</td>\n",
       "      <td>41.871835</td>\n",
       "      <td>-87.626151</td>\n",
       "      <td>(41.871834768, -87.62615082)</td>\n",
       "      <td>2023-09-06 11:00:00</td>\n",
       "    </tr>\n",
       "    <tr>\n",
       "      <th>643</th>\n",
       "      <td>12342615</td>\n",
       "      <td>JE202211</td>\n",
       "      <td>04/17/2021 03:20:00 PM</td>\n",
       "      <td>081XX S PRAIRIE AVE</td>\n",
       "      <td>0325</td>\n",
       "      <td>ROBBERY</td>\n",
       "      <td>VEHICULAR HIJACKING</td>\n",
       "      <td>RESIDENCE</td>\n",
       "      <td>True</td>\n",
       "      <td>False</td>\n",
       "      <td>...</td>\n",
       "      <td>44.0</td>\n",
       "      <td>03</td>\n",
       "      <td>1179448.0</td>\n",
       "      <td>1851073.0</td>\n",
       "      <td>2021</td>\n",
       "      <td>09/14/2023 03:41:59 PM</td>\n",
       "      <td>41.746626</td>\n",
       "      <td>-87.618032</td>\n",
       "      <td>(41.746626309, -87.618031954)</td>\n",
       "      <td>2021-04-17 15:20:00</td>\n",
       "    </tr>\n",
       "    <tr>\n",
       "      <th>646</th>\n",
       "      <td>12589893</td>\n",
       "      <td>JF109865</td>\n",
       "      <td>01/11/2022 03:00:00 PM</td>\n",
       "      <td>087XX S KINGSTON AVE</td>\n",
       "      <td>1565</td>\n",
       "      <td>SEX OFFENSE</td>\n",
       "      <td>INDECENT SOLICITATION OF A CHILD</td>\n",
       "      <td>RESIDENCE</td>\n",
       "      <td>False</td>\n",
       "      <td>True</td>\n",
       "      <td>...</td>\n",
       "      <td>46.0</td>\n",
       "      <td>17</td>\n",
       "      <td>1194660.0</td>\n",
       "      <td>1847481.0</td>\n",
       "      <td>2022</td>\n",
       "      <td>09/14/2023 03:41:59 PM</td>\n",
       "      <td>41.736409</td>\n",
       "      <td>-87.562410</td>\n",
       "      <td>(41.736409029, -87.562410309)</td>\n",
       "      <td>2022-01-11 15:00:00</td>\n",
       "    </tr>\n",
       "    <tr>\n",
       "      <th>647</th>\n",
       "      <td>12592454</td>\n",
       "      <td>JF113025</td>\n",
       "      <td>01/14/2022 03:55:00 PM</td>\n",
       "      <td>067XX S MORGAN ST</td>\n",
       "      <td>2826</td>\n",
       "      <td>OTHER OFFENSE</td>\n",
       "      <td>HARASSMENT BY ELECTRONIC MEANS</td>\n",
       "      <td>RESIDENCE</td>\n",
       "      <td>False</td>\n",
       "      <td>True</td>\n",
       "      <td>...</td>\n",
       "      <td>68.0</td>\n",
       "      <td>26</td>\n",
       "      <td>1170805.0</td>\n",
       "      <td>1860170.0</td>\n",
       "      <td>2022</td>\n",
       "      <td>09/14/2023 03:41:59 PM</td>\n",
       "      <td>41.771782</td>\n",
       "      <td>-87.649437</td>\n",
       "      <td>(41.771782439, -87.649436929)</td>\n",
       "      <td>2022-01-14 15:55:00</td>\n",
       "    </tr>\n",
       "    <tr>\n",
       "      <th>648</th>\n",
       "      <td>12785595</td>\n",
       "      <td>JF346553</td>\n",
       "      <td>08/05/2022 09:00:00 PM</td>\n",
       "      <td>072XX S UNIVERSITY AVE</td>\n",
       "      <td>1544</td>\n",
       "      <td>SEX OFFENSE</td>\n",
       "      <td>SEXUAL EXPLOITATION OF A CHILD</td>\n",
       "      <td>APARTMENT</td>\n",
       "      <td>True</td>\n",
       "      <td>False</td>\n",
       "      <td>...</td>\n",
       "      <td>69.0</td>\n",
       "      <td>17</td>\n",
       "      <td>1185135.0</td>\n",
       "      <td>1857211.0</td>\n",
       "      <td>2022</td>\n",
       "      <td>09/14/2023 03:41:59 PM</td>\n",
       "      <td>41.763338</td>\n",
       "      <td>-87.597001</td>\n",
       "      <td>(41.763337967, -87.597001131)</td>\n",
       "      <td>2022-08-05 21:00:00</td>\n",
       "    </tr>\n",
       "  </tbody>\n",
       "</table>\n",
       "<p>5 rows × 23 columns</p>\n",
       "</div>"
      ],
      "text/plain": [
       "           ID Case Number                    Date                   Block  \\\n",
       "371  13204489    JG416325  09/06/2023 11:00:00 AM          0000X E 8TH ST   \n",
       "643  12342615    JE202211  04/17/2021 03:20:00 PM     081XX S PRAIRIE AVE   \n",
       "646  12589893    JF109865  01/11/2022 03:00:00 PM    087XX S KINGSTON AVE   \n",
       "647  12592454    JF113025  01/14/2022 03:55:00 PM       067XX S MORGAN ST   \n",
       "648  12785595    JF346553  08/05/2022 09:00:00 PM  072XX S UNIVERSITY AVE   \n",
       "\n",
       "     IUCR   Primary Type                       Description  \\\n",
       "371  0810          THEFT                         OVER $500   \n",
       "643  0325        ROBBERY               VEHICULAR HIJACKING   \n",
       "646  1565    SEX OFFENSE  INDECENT SOLICITATION OF A CHILD   \n",
       "647  2826  OTHER OFFENSE    HARASSMENT BY ELECTRONIC MEANS   \n",
       "648  1544    SEX OFFENSE    SEXUAL EXPLOITATION OF A CHILD   \n",
       "\n",
       "                       Location Description  Arrest  Domestic  ...  \\\n",
       "371  PARKING LOT / GARAGE (NON RESIDENTIAL)   False     False  ...   \n",
       "643                               RESIDENCE    True     False  ...   \n",
       "646                               RESIDENCE   False      True  ...   \n",
       "647                               RESIDENCE   False      True  ...   \n",
       "648                               APARTMENT    True     False  ...   \n",
       "\n",
       "     Community Area  FBI Code  X Coordinate  Y Coordinate  Year  \\\n",
       "371            32.0        06     1176857.0     1896680.0  2023   \n",
       "643            44.0        03     1179448.0     1851073.0  2021   \n",
       "646            46.0        17     1194660.0     1847481.0  2022   \n",
       "647            68.0        26     1170805.0     1860170.0  2022   \n",
       "648            69.0        17     1185135.0     1857211.0  2022   \n",
       "\n",
       "                 Updated On   Latitude  Longitude  \\\n",
       "371  11/04/2023 03:40:18 PM  41.871835 -87.626151   \n",
       "643  09/14/2023 03:41:59 PM  41.746626 -87.618032   \n",
       "646  09/14/2023 03:41:59 PM  41.736409 -87.562410   \n",
       "647  09/14/2023 03:41:59 PM  41.771782 -87.649437   \n",
       "648  09/14/2023 03:41:59 PM  41.763338 -87.597001   \n",
       "\n",
       "                          Location            New_Date  \n",
       "371   (41.871834768, -87.62615082) 2023-09-06 11:00:00  \n",
       "643  (41.746626309, -87.618031954) 2021-04-17 15:20:00  \n",
       "646  (41.736409029, -87.562410309) 2022-01-11 15:00:00  \n",
       "647  (41.771782439, -87.649436929) 2022-01-14 15:55:00  \n",
       "648  (41.763337967, -87.597001131) 2022-08-05 21:00:00  \n",
       "\n",
       "[5 rows x 23 columns]"
      ]
     },
     "execution_count": 14,
     "metadata": {},
     "output_type": "execute_result"
    }
   ],
   "source": [
    "\n",
    "crime_data.head()"
   ]
  },
  {
   "cell_type": "markdown",
   "metadata": {},
   "source": [
    "## Columns that need to drop\n",
    "X & Y Coordinate, Date, Block, IUCR, Description, Domestic, Beat, District, FBI code, Ward, Updated on, Latitude, Longitude "
   ]
  },
  {
   "cell_type": "code",
   "execution_count": 20,
   "metadata": {},
   "outputs": [
    {
     "name": "stdout",
     "output_type": "stream",
     "text": [
      "<class 'pandas.core.frame.DataFrame'>\n",
      "Index: 734075 entries, 371 to 7264756\n",
      "Data columns (total 7 columns):\n",
      " #   Column                Non-Null Count   Dtype         \n",
      "---  ------                --------------   -----         \n",
      " 0   ID                    734075 non-null  int64         \n",
      " 1   New_Date              734075 non-null  datetime64[ns]\n",
      " 2   Primary Type          734075 non-null  object        \n",
      " 3   Location Description  730589 non-null  object        \n",
      " 4   Arrest                734075 non-null  int64         \n",
      " 5   Community Area        734074 non-null  float64       \n",
      " 6   Location              723460 non-null  object        \n",
      "dtypes: datetime64[ns](1), float64(1), int64(2), object(3)\n",
      "memory usage: 44.8+ MB\n"
     ]
    }
   ],
   "source": [
    "col = ['ID', 'New_Date', 'Primary Type', 'Location Description', 'Arrest', 'Community Area', 'Location']\n",
    "crime_data = crime_data[col]\n",
    "crime_data.info()"
   ]
  },
  {
   "cell_type": "markdown",
   "metadata": {},
   "source": [
    "## Saving the Dataframe to a CSV file"
   ]
  },
  {
   "cell_type": "code",
   "execution_count": 21,
   "metadata": {},
   "outputs": [],
   "source": [
    "crime_data.to_csv('Crimes_2021_to_Present.csv')"
   ]
  },
  {
   "cell_type": "code",
   "execution_count": 22,
   "metadata": {},
   "outputs": [
    {
     "name": "stdout",
     "output_type": "stream",
     "text": [
      "hello worlkd\n"
     ]
    }
   ],
   "source": [
    "print(\"hello worlkd\")"
   ]
  }
 ],
 "metadata": {
  "kernelspec": {
   "display_name": "cs418env",
   "language": "python",
   "name": "python3"
  },
  "language_info": {
   "codemirror_mode": {
    "name": "ipython",
    "version": 3
   },
   "file_extension": ".py",
   "mimetype": "text/x-python",
   "name": "python",
   "nbconvert_exporter": "python",
   "pygments_lexer": "ipython3",
   "version": "3.11.5"
  }
 },
 "nbformat": 4,
 "nbformat_minor": 2
}
