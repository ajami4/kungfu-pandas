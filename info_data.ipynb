{
 "cells": [
  {
   "cell_type": "markdown",
   "metadata": {},
   "source": [
    "## Data Info\n",
    "Getting the data info such as data size, number of feature, number of records, mean value, max value, etc...."
   ]
  },
  {
   "cell_type": "code",
   "execution_count": 3,
   "metadata": {},
   "outputs": [],
   "source": [
    "import pandas as pd"
   ]
  },
  {
   "cell_type": "code",
   "execution_count": 4,
   "metadata": {},
   "outputs": [],
   "source": [
    "crime_data = pd.read_csv('Crimes_2001_to_Present.csv')"
   ]
  },
  {
   "cell_type": "code",
   "execution_count": 5,
   "metadata": {},
   "outputs": [
    {
     "name": "stdout",
     "output_type": "stream",
     "text": [
      "<class 'pandas.core.frame.DataFrame'>\n",
      "RangeIndex: 8000075 entries, 0 to 8000074\n",
      "Data columns (total 22 columns):\n",
      " #   Column                Dtype  \n",
      "---  ------                -----  \n",
      " 0   ID                    int64  \n",
      " 1   Case Number           object \n",
      " 2   Date                  object \n",
      " 3   Block                 object \n",
      " 4   IUCR                  object \n",
      " 5   Primary Type          object \n",
      " 6   Description           object \n",
      " 7   Location Description  object \n",
      " 8   Arrest                bool   \n",
      " 9   Domestic              bool   \n",
      " 10  Beat                  int64  \n",
      " 11  District              float64\n",
      " 12  Ward                  float64\n",
      " 13  Community Area        float64\n",
      " 14  FBI Code              object \n",
      " 15  X Coordinate          float64\n",
      " 16  Y Coordinate          float64\n",
      " 17  Year                  int64  \n",
      " 18  Updated On            object \n",
      " 19  Latitude              float64\n",
      " 20  Longitude             float64\n",
      " 21  Location              object \n",
      "dtypes: bool(2), float64(7), int64(3), object(10)\n",
      "memory usage: 1.2+ GB\n"
     ]
    }
   ],
   "source": [
    "crime_data.info()"
   ]
  },
  {
   "cell_type": "markdown",
   "metadata": {},
   "source": [
    "## Converting the Date\n"
   ]
  },
  {
   "cell_type": "code",
   "execution_count": 6,
   "metadata": {},
   "outputs": [],
   "source": [
    "\n",
    "crime_data['New_Date'] = pd.to_datetime(crime_data['Date'])\n",
    "# crime_data['New_Date'] = crime_data['New_Date'].dt.strftime('%m-%d-%Y %H:%M:%S')"
   ]
  },
  {
   "cell_type": "code",
   "execution_count": 7,
   "metadata": {},
   "outputs": [
    {
     "data": {
      "text/html": [
       "<div>\n",
       "<style scoped>\n",
       "    .dataframe tbody tr th:only-of-type {\n",
       "        vertical-align: middle;\n",
       "    }\n",
       "\n",
       "    .dataframe tbody tr th {\n",
       "        vertical-align: top;\n",
       "    }\n",
       "\n",
       "    .dataframe thead th {\n",
       "        text-align: right;\n",
       "    }\n",
       "</style>\n",
       "<table border=\"1\" class=\"dataframe\">\n",
       "  <thead>\n",
       "    <tr style=\"text-align: right;\">\n",
       "      <th></th>\n",
       "      <th>Date</th>\n",
       "      <th>New_Date</th>\n",
       "    </tr>\n",
       "  </thead>\n",
       "  <tbody>\n",
       "    <tr>\n",
       "      <th>0</th>\n",
       "      <td>03/18/2015 12:00:00 PM</td>\n",
       "      <td>2015-03-18 12:00:00</td>\n",
       "    </tr>\n",
       "    <tr>\n",
       "      <th>1</th>\n",
       "      <td>12/20/2018 03:00:00 PM</td>\n",
       "      <td>2018-12-20 15:00:00</td>\n",
       "    </tr>\n",
       "    <tr>\n",
       "      <th>2</th>\n",
       "      <td>05/01/2016 12:25:00 AM</td>\n",
       "      <td>2016-05-01 00:25:00</td>\n",
       "    </tr>\n",
       "    <tr>\n",
       "      <th>3</th>\n",
       "      <td>12/20/2018 04:00:00 PM</td>\n",
       "      <td>2018-12-20 16:00:00</td>\n",
       "    </tr>\n",
       "    <tr>\n",
       "      <th>4</th>\n",
       "      <td>06/01/2014 12:01:00 AM</td>\n",
       "      <td>2014-06-01 00:01:00</td>\n",
       "    </tr>\n",
       "    <tr>\n",
       "      <th>...</th>\n",
       "      <td>...</td>\n",
       "      <td>...</td>\n",
       "    </tr>\n",
       "    <tr>\n",
       "      <th>8000070</th>\n",
       "      <td>08/10/2020 08:30:00 PM</td>\n",
       "      <td>2020-08-10 20:30:00</td>\n",
       "    </tr>\n",
       "    <tr>\n",
       "      <th>8000071</th>\n",
       "      <td>06/18/2020 09:00:00 PM</td>\n",
       "      <td>2020-06-18 21:00:00</td>\n",
       "    </tr>\n",
       "    <tr>\n",
       "      <th>8000072</th>\n",
       "      <td>07/27/2020 03:02:00 PM</td>\n",
       "      <td>2020-07-27 15:02:00</td>\n",
       "    </tr>\n",
       "    <tr>\n",
       "      <th>8000073</th>\n",
       "      <td>08/14/2020 03:00:00 PM</td>\n",
       "      <td>2020-08-14 15:00:00</td>\n",
       "    </tr>\n",
       "    <tr>\n",
       "      <th>8000074</th>\n",
       "      <td>03/06/2020 02:00:00 PM</td>\n",
       "      <td>2020-03-06 14:00:00</td>\n",
       "    </tr>\n",
       "  </tbody>\n",
       "</table>\n",
       "<p>8000075 rows × 2 columns</p>\n",
       "</div>"
      ],
      "text/plain": [
       "                           Date            New_Date\n",
       "0        03/18/2015 12:00:00 PM 2015-03-18 12:00:00\n",
       "1        12/20/2018 03:00:00 PM 2018-12-20 15:00:00\n",
       "2        05/01/2016 12:25:00 AM 2016-05-01 00:25:00\n",
       "3        12/20/2018 04:00:00 PM 2018-12-20 16:00:00\n",
       "4        06/01/2014 12:01:00 AM 2014-06-01 00:01:00\n",
       "...                         ...                 ...\n",
       "8000070  08/10/2020 08:30:00 PM 2020-08-10 20:30:00\n",
       "8000071  06/18/2020 09:00:00 PM 2020-06-18 21:00:00\n",
       "8000072  07/27/2020 03:02:00 PM 2020-07-27 15:02:00\n",
       "8000073  08/14/2020 03:00:00 PM 2020-08-14 15:00:00\n",
       "8000074  03/06/2020 02:00:00 PM 2020-03-06 14:00:00\n",
       "\n",
       "[8000075 rows x 2 columns]"
      ]
     },
     "execution_count": 7,
     "metadata": {},
     "output_type": "execute_result"
    }
   ],
   "source": [
    "# comparing the old date value format to the datetime value format\n",
    "crime_data[['Date', 'New_Date']]"
   ]
  },
  {
   "cell_type": "code",
   "execution_count": 8,
   "metadata": {},
   "outputs": [
    {
     "name": "stdout",
     "output_type": "stream",
     "text": [
      "ID                      734075\n",
      "Case Number             734075\n",
      "Date                    734075\n",
      "Block                   734075\n",
      "IUCR                    734075\n",
      "Primary Type            734075\n",
      "Description             734075\n",
      "Location Description    730589\n",
      "Arrest                  734075\n",
      "Domestic                734075\n",
      "Beat                    734075\n",
      "District                734075\n",
      "Ward                    734051\n",
      "Community Area          734074\n",
      "FBI Code                734075\n",
      "X Coordinate            723460\n",
      "Y Coordinate            723460\n",
      "Year                    734075\n",
      "Updated On              734075\n",
      "Latitude                723460\n",
      "Longitude               723460\n",
      "Location                723460\n",
      "New_Date                734075\n",
      "dtype: int64\n",
      "Max new_date value:  2024-02-10 00:00:00\n",
      "Min new_date value:  2001-01-01 00:00:00\n"
     ]
    }
   ],
   "source": [
    "print(crime_data[crime_data['New_Date'].dt.year >= 2021].count()) # How many records we have from 2021 to 2024\n",
    "print(\"Max new_date value: \", crime_data['New_Date'].max()) # Latest record of 2024\n",
    "print(\"Min new_date value: \", crime_data['New_Date'].min()) # Earliest record of 2021"
   ]
  }
 ],
 "metadata": {
  "kernelspec": {
   "display_name": "cs418env",
   "language": "python",
   "name": "python3"
  },
  "language_info": {
   "codemirror_mode": {
    "name": "ipython",
    "version": 3
   },
   "file_extension": ".py",
   "mimetype": "text/x-python",
   "name": "python",
   "nbconvert_exporter": "python",
   "pygments_lexer": "ipython3",
   "version": "3.11.5"
  }
 },
 "nbformat": 4,
 "nbformat_minor": 2
}
