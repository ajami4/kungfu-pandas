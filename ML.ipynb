{
 "cells": [
  {
   "cell_type": "code",
   "execution_count": 1,
   "metadata": {},
   "outputs": [],
   "source": [
    "import pandas as pd\n",
    "import numpy as np\n",
    "from ML_pr import *"
   ]
  },
  {
   "cell_type": "code",
   "execution_count": 2,
   "metadata": {},
   "outputs": [],
   "source": [
    "crime_data_2021_present = pd.read_csv('csv_files/Crimes_2021_to_Present.csv')"
   ]
  },
  {
   "cell_type": "markdown",
   "metadata": {},
   "source": [
    "ML - 1. Predict if a person would get arrested considering primary type of crime, location description and neighborhood (region name)\n"
   ]
  },
  {
   "cell_type": "markdown",
   "metadata": {},
   "source": [
    "# Best Feature"
   ]
  },
  {
   "cell_type": "code",
   "execution_count": 3,
   "metadata": {},
   "outputs": [],
   "source": [
    "X = crime_data_2021_present[['Primary Type', 'Location Description', 'RegionName']]\n",
    "y = crime_data_2021_present['Arrest'] \n",
    "X_train, X_test, y_train, y_test = train_test_split(X, y, test_size=0.2, random_state=42)\n",
    "\n",
    "(features, accuracy) = feature_selection_and_evaluation(X_train, y_train)\n"
   ]
  },
  {
   "cell_type": "code",
   "execution_count": 8,
   "metadata": {},
   "outputs": [
    {
     "name": "stdout",
     "output_type": "stream",
     "text": [
      "['Primary Type', 'Location Description', 'RegionName'] 0.9112935253071257\n"
     ]
    }
   ],
   "source": [
    "print(features, accuracy)"
   ]
  },
  {
   "cell_type": "markdown",
   "metadata": {},
   "source": [
    "# Training/Testing the model\n",
    "<h5>using the best feature, train the LogisticRegression Model using the same training set that we did to get the best features.\n",
    "Test the model on the testing set <h5>"
   ]
  },
  {
   "cell_type": "markdown",
   "metadata": {},
   "source": []
  },
  {
   "cell_type": "code",
   "execution_count": 24,
   "metadata": {},
   "outputs": [
    {
     "name": "stdout",
     "output_type": "stream",
     "text": [
      "Accuracy: 0.9119251158788754\n"
     ]
    }
   ],
   "source": [
    "# Training and Testing Data Split\n",
    "# X_train, X_test, y_train, y_test = train_test_split(X, y, test_size=0.2, random_state=42)\n",
    "\n",
    "encoder = OneHotEncoder(handle_unknown='ignore')  # Handle unknown categories by ignoring them\n",
    "\n",
    "# Training: Encode features and fit the encoder\n",
    "X_train_encoded = encoder.fit_transform(X_train[features])\n",
    "X_test_encoded = encoder.transform(X_train['Primary Type'])\n",
    "\n",
    "# Testing: Use the same encoder to transform features\n",
    "X_test_encoded = encoder.transform(X_test[features])\n",
    "X_test_encoded = encoder.transform(X_test['Primary Type'])\n",
    "\n",
    "# Create and train the logistic regression model\n",
    "model = LogisticRegression(random_state=42, solver='liblinear', penalty='l1', C=1.0)  \n",
    "model.fit(X_train_encoded, y_train)\n",
    "\n",
    "# Predict on the testing dataset\n",
    "y_pred_test = model.predict(X_test_encoded)\n",
    "\n",
    "# Evaluate the accuracy of the model\n",
    "accuracy = accuracy_score(y_test, y_pred_test)\n",
    "\n",
    "print(\"Accuracy:\", accuracy)\n",
    "\n",
    "\n",
    "\n"
   ]
  },
  {
   "cell_type": "code",
   "execution_count": null,
   "metadata": {},
   "outputs": [],
   "source": [
    "# Highly Recommended for Final report ()\n",
    "# 2 data (Crime and Housing)\n",
    "\n",
    "# You want to get a mean house price of all the region in Housing data (181 columns and 1 row) \n",
    "# Rotate teh data (2 columns)\n",
    "# Zone for different housing prices (Ex 10-50,000 Zone 1, 50-100,000 Zone 2, so on)\n",
    "# Join them (Housing Data and Crime) on Region Name  => New Data (Save CSV)\n",
    "# Create a ML Model Classificatio (SVM, NN)\n",
    "# Using the Zone, Region Name, Primary Type, Location Description => Will the person be arrested or not (0,1)\n"
   ]
  },
  {
   "cell_type": "code",
   "execution_count": null,
   "metadata": {},
   "outputs": [],
   "source": [
    "# Do T-Test to test our hypothesis"
   ]
  }
 ],
 "metadata": {
  "kernelspec": {
   "display_name": "base",
   "language": "python",
   "name": "python3"
  },
  "language_info": {
   "codemirror_mode": {
    "name": "ipython",
    "version": 3
   },
   "file_extension": ".py",
   "mimetype": "text/x-python",
   "name": "python",
   "nbconvert_exporter": "python",
   "pygments_lexer": "ipython3",
   "version": "3.11.5"
  },
  "orig_nbformat": 4
 },
 "nbformat": 4,
 "nbformat_minor": 2
}
