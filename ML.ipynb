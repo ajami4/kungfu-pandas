{
 "cells": [
  {
   "cell_type": "code",
   "execution_count": 12,
   "metadata": {},
   "outputs": [],
   "source": [
    "import pandas as pd\n",
    "import numpy as np\n",
    "from ML_pr import *"
   ]
  },
  {
   "cell_type": "code",
   "execution_count": 13,
   "metadata": {},
   "outputs": [],
   "source": [
    "crime_data_2021_present = pd.read_csv('csv_files/Crimes_2021_to_Present.csv')"
   ]
  },
  {
   "cell_type": "markdown",
   "metadata": {},
   "source": [
    "ML - 1. Predict if a person would get arrested considering primary type of crime, location description and neighborhood (region name)\n",
    "2. Type of crime thats more prominent based on the history of the crimes in the neighborhood\n",
    "3. Average price of the house based on the crimes (if lake shore had 1000 crimes, whats the future average price based on the crimes that has happened so far)\n"
   ]
  },
  {
   "cell_type": "code",
   "execution_count": 14,
   "metadata": {},
   "outputs": [
    {
     "data": {
      "text/plain": [
       "(\"['Primary Type', 'Location Description', 'RegionName']\", 0.9112935253071257)"
      ]
     },
     "execution_count": 14,
     "metadata": {},
     "output_type": "execute_result"
    }
   ],
   "source": [
    "X = crime_data_2021_present[['Primary Type', 'Location Description', 'RegionName']]\n",
    "y = crime_data_2021_present['Arrest'] \n",
    "\n",
    "\n",
    "feature_selection_and_evaluation(X, y)\n"
   ]
  },
  {
   "cell_type": "code",
   "execution_count": null,
   "metadata": {},
   "outputs": [],
   "source": [
    "# Highly Recommended for Final report ()\n",
    "# 2 data (Crime and Housing)\n",
    "\n",
    "# You want to get a mean house price of all the region in Housing data (181 columns and 1 row) \n",
    "# Rotate teh data (2 columns)\n",
    "# Zone for different housing prices (Ex 10-50,000 Zone 1, 50-100,000 Zone 2, so on)\n",
    "# Join them (Housing Data and Crime) on Region Name  => New Data (Save CSV)\n",
    "# Create a ML Model Classificatio (SVM, NN)\n",
    "# Using the Zone, Region Name, Primary Type, Location Description => Will the person be arrested or not (0,1)\n"
   ]
  }
 ],
 "metadata": {
  "kernelspec": {
   "display_name": "base",
   "language": "python",
   "name": "python3"
  },
  "language_info": {
   "codemirror_mode": {
    "name": "ipython",
    "version": 3
   },
   "file_extension": ".py",
   "mimetype": "text/x-python",
   "name": "python",
   "nbconvert_exporter": "python",
   "pygments_lexer": "ipython3",
   "version": "3.11.5"
  },
  "orig_nbformat": 4
 },
 "nbformat": 4,
 "nbformat_minor": 2
}
