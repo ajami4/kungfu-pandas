{
 "cells": [
  {
   "cell_type": "markdown",
   "metadata": {},
   "source": [
    "ML - 1. Predict if a person would get arrested considering primary type of crime, location description and neighborhood (region name)\n",
    "2. Type of crime thats more prominent based on the history of the crimes in the neighborhood\n",
    "3. Average price of the house based on the crimes (if lake shore had 1000 crimes, whats the future average price based on the crimes that has happened so far)\n"
   ]
  },
  {
   "cell_type": "code",
   "execution_count": null,
   "metadata": {
    "vscode": {
     "languageId": "plaintext"
    }
   },
   "outputs": [],
   "source": []
  }
 ],
 "metadata": {
  "language_info": {
   "name": "python"
  },
  "orig_nbformat": 4
 },
 "nbformat": 4,
 "nbformat_minor": 2
}
