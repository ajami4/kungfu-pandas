{
 "cells": [
  {
   "cell_type": "code",
   "execution_count": 3,
   "metadata": {},
   "outputs": [],
   "source": [
    "import pandas as pd\n",
    "import numpy as np"
   ]
  },
  {
   "cell_type": "code",
   "execution_count": 4,
   "metadata": {},
   "outputs": [],
   "source": [
    "crime_data_2021_present = pd.read_csv('csv_files/Crimes_2021_to_Present.csv')"
   ]
  },
  {
   "cell_type": "markdown",
   "metadata": {},
   "source": [
    "ML - 1. Predict if a person would get arrested considering primary type of crime, location description and neighborhood (region name)\n",
    "2. Type of crime thats more prominent based on the history of the crimes in the neighborhood\n",
    "3. Average price of the house based on the crimes (if lake shore had 1000 crimes, whats the future average price based on the crimes that has happened so far)\n"
   ]
  },
  {
   "cell_type": "code",
   "execution_count": 5,
   "metadata": {},
   "outputs": [
    {
     "name": "stdout",
     "output_type": "stream",
     "text": [
      "Accuracy: 0.911952871298121\n"
     ]
    },
    {
     "name": "stderr",
     "output_type": "stream",
     "text": [
      "/Users/lakshmikrishnan/anaconda3/lib/python3.11/site-packages/sklearn/linear_model/_logistic.py:460: ConvergenceWarning: lbfgs failed to converge (status=1):\n",
      "STOP: TOTAL NO. of ITERATIONS REACHED LIMIT.\n",
      "\n",
      "Increase the number of iterations (max_iter) or scale the data as shown in:\n",
      "    https://scikit-learn.org/stable/modules/preprocessing.html\n",
      "Please also refer to the documentation for alternative solver options:\n",
      "    https://scikit-learn.org/stable/modules/linear_model.html#logistic-regression\n",
      "  n_iter_i = _check_optimize_result(\n"
     ]
    }
   ],
   "source": [
    "from sklearn.model_selection import train_test_split\n",
    "from sklearn.preprocessing import OneHotEncoder\n",
    "from sklearn.linear_model import LogisticRegression\n",
    "from sklearn.metrics import accuracy_score\n",
    "\n",
    "# Feature Encoding\n",
    "encoder = OneHotEncoder()\n",
    "X_encoded = encoder.fit_transform(crime_data_2021_present[['Primary Type', 'Location Description', 'RegionName']])\n",
    "X_train, X_test, y_train, y_test = train_test_split(X_encoded, crime_data_2021_present['Arrest'], test_size=0.2, random_state=42)\n",
    "model = LogisticRegression(random_state=42)\n",
    "model.fit(X_train, y_train)\n",
    "y_pred = model.predict(X_test)\n",
    "accuracy = accuracy_score(y_test, y_pred)\n",
    "print(\"Accuracy:\", accuracy)\n"
   ]
  },
  {
   "cell_type": "code",
   "execution_count": 9,
   "metadata": {},
   "outputs": [
    {
     "name": "stdout",
     "output_type": "stream",
     "text": [
      "Average accuracies: {\"['Primary Type']\": 0.909402684217322, \"['Primary Type', 'Location Description']\": 0.9110558686390963, \"['Primary Type', 'Location Description', 'RegionName']\": 0.9112935253071257, \"['Location Description']\": 0.8799801532478356, \"['Location Description', 'RegionName']\": 0.8798621924993757, \"['RegionName']\": 0.8798864786236226, \"['Primary Type', 'RegionName']\": 0.9095605435855767}\n",
      "Best combination of features: ['Primary Type', 'Location Description', 'RegionName']\n",
      "Best accuracy: 0.9112935253071257\n"
     ]
    }
   ],
   "source": [
    "from sklearn.model_selection import train_test_split, KFold\n",
    "from sklearn.preprocessing import OneHotEncoder\n",
    "from sklearn.linear_model import LogisticRegression\n",
    "from sklearn.metrics import accuracy_score\n",
    "import numpy as np\n",
    "import pandas as pd \n",
    "\n",
    "\n",
    "\n",
    "# encoder = OneHotEncoder()\n",
    "\n",
    "X = crime_data_2021_present[['Primary Type', 'Location Description', 'RegionName']]\n",
    "y = crime_data_2021_present['Arrest'] \n",
    "\n",
    "\n",
    "X_train, X_test, y_train, y_test = train_test_split(X, y, test_size=0.2, random_state=42)\n",
    "\n",
    "k_folds = KFold(n_splits=4, shuffle=True, random_state=42)\n",
    "combination = [['Primary Type'], ['Primary Type', 'Location Description'], ['Primary Type', 'Location Description', 'RegionName'], ['Location Description'],['Location Description','RegionName'],['RegionName'], ['Primary Type','RegionName' ]]\n",
    "avg_accuracy = {}\n",
    "\n",
    "for features in combination:\n",
    "    X_encoded = encoder.fit_transform(X_train[features])\n",
    "    accuracies = []\n",
    "    \n",
    "    for train_idx, val_idx in k_folds.split(X_encoded):\n",
    "        X_train_fold, X_val_fold = X_encoded[train_idx], X_encoded[val_idx] #Iterates over each combination, encoding the features, and perform k-fold cross-validation\n",
    "        y_train_fold, y_val_fold = y_train.iloc[train_idx], y_train.iloc[val_idx]\n",
    "\n",
    "        model = LogisticRegression(random_state=42, solver='sag', penalty='l2', C=1.0)  \n",
    "        model.fit(X_train_fold, y_train_fold)\n",
    "        \n",
    "        y_pred_val = model.predict(X_val_fold)\n",
    "        accuracy = accuracy_score(y_val_fold, y_pred_val)\n",
    "        accuracies.append(accuracy)\n",
    "    \n",
    "    avg_accuracy[str(features)] = sum(accuracies) / len(accuracies)\n",
    "\n",
    "best_combination = max(avg_accuracy, key=avg_accuracy.get)\n",
    "best_accuracy = avg_accuracy[best_combination]\n",
    "\n",
    "print(\"Average accuracies:\", avg_accuracy)\n",
    "print(\"Best combination of features:\", best_combination)\n",
    "print(\"Best accuracy:\", best_accuracy)\n"
   ]
  },
  {
   "cell_type": "code",
   "execution_count": null,
   "metadata": {},
   "outputs": [],
   "source": [
    "# Highly Recommended for Final report ()\n",
    "# 2 data (Crime and Housing)\n",
    "\n",
    "# You want to get a mean house price of all the region in Housing data (181 columns and 1 row) \n",
    "# Rotate teh data (2 columns)\n",
    "# Zone for different housing prices (Ex 10-50,000 Zone 1, 50-100,000 Zone 2, so on)\n",
    "# Join them (Housing Data and Crime) on Region Name  => New Data (Save CSV)\n",
    "# Create a ML Model Classificatio (SVM, NN)\n",
    "# Using the Zone, Region Name, Primary Type, Location Description => Will the person be arrested or not (0,1)\n"
   ]
  },
  {
   "cell_type": "code",
   "execution_count": 12,
   "metadata": {},
   "outputs": [
    {
     "name": "stdout",
     "output_type": "stream",
     "text": [
      "  (0, 2)\t1.0\n",
      "  (0, 48)\t1.0\n",
      "  (0, 202)\t1.0\n",
      "  (1, 17)\t1.0\n",
      "  (1, 159)\t1.0\n",
      "  (1, 211)\t1.0\n",
      "  (2, 16)\t1.0\n",
      "  (2, 160)\t1.0\n",
      "  (2, 186)\t1.0\n",
      "  (3, 16)\t1.0\n",
      "  (3, 163)\t1.0\n",
      "  (3, 184)\t1.0\n",
      "  (4, 2)\t1.0\n",
      "  (4, 48)\t1.0\n",
      "  (4, 196)\t1.0\n",
      "  (5, 22)\t1.0\n",
      "  (5, 48)\t1.0\n",
      "  (5, 227)\t1.0\n",
      "  (6, 29)\t1.0\n",
      "  (6, 113)\t1.0\n",
      "  (6, 205)\t1.0\n",
      "  (7, 27)\t1.0\n",
      "  (7, 145)\t1.0\n",
      "  (7, 187)\t1.0\n",
      "  (8, 5)\t1.0\n",
      "  :\t:\n",
      "  (576454, 202)\t1.0\n",
      "  (576455, 5)\t1.0\n",
      "  (576455, 48)\t1.0\n",
      "  (576455, 179)\t1.0\n",
      "  (576456, 1)\t1.0\n",
      "  (576456, 48)\t1.0\n",
      "  (576456, 184)\t1.0\n",
      "  (576457, 22)\t1.0\n",
      "  (576457, 48)\t1.0\n",
      "  (576457, 204)\t1.0\n",
      "  (576458, 1)\t1.0\n",
      "  (576458, 145)\t1.0\n",
      "  (576458, 249)\t1.0\n",
      "  (576459, 2)\t1.0\n",
      "  (576459, 48)\t1.0\n",
      "  (576459, 208)\t1.0\n",
      "  (576460, 8)\t1.0\n",
      "  (576460, 145)\t1.0\n",
      "  (576460, 233)\t1.0\n",
      "  (576461, 3)\t1.0\n",
      "  (576461, 56)\t1.0\n",
      "  (576461, 217)\t1.0\n",
      "  (576462, 2)\t1.0\n",
      "  (576462, 48)\t1.0\n",
      "  (576462, 181)\t1.0\n"
     ]
    },
    {
     "name": "stderr",
     "output_type": "stream",
     "text": [
      "/Users/lakshmikrishnan/anaconda3/lib/python3.11/site-packages/sklearn/linear_model/_logistic.py:460: ConvergenceWarning: lbfgs failed to converge (status=1):\n",
      "STOP: TOTAL NO. of ITERATIONS REACHED LIMIT.\n",
      "\n",
      "Increase the number of iterations (max_iter) or scale the data as shown in:\n",
      "    https://scikit-learn.org/stable/modules/preprocessing.html\n",
      "Please also refer to the documentation for alternative solver options:\n",
      "    https://scikit-learn.org/stable/modules/linear_model.html#logistic-regression\n",
      "  n_iter_i = _check_optimize_result(\n"
     ]
    },
    {
     "name": "stdout",
     "output_type": "stream",
     "text": [
      "Accuracy: 0.911952871298121\n",
      "Test Accuracy: 0.9121540980876516\n"
     ]
    }
   ],
   "source": [
    "from sklearn.model_selection import train_test_split\n",
    "from sklearn.preprocessing import OneHotEncoder\n",
    "from sklearn.linear_model import LogisticRegression\n",
    "from sklearn.metrics import accuracy_score\n",
    "\n",
    "encoder = OneHotEncoder()\n",
    "X_encoded = encoder.fit_transform(crime_data_2021_present[['Primary Type', 'Location Description', 'RegionName']])\n",
    "X_train, X_test, y_train, y_test = train_test_split(X_encoded, crime_data_2021_present['Arrest'], test_size=0.2, random_state=42)\n",
    "print(X_train)\n",
    "model = LogisticRegression(random_state=42)\n",
    "model.fit(X_train, y_train)\n",
    "y_pred = model.predict(X_test)\n",
    "accuracy = accuracy_score(y_test, y_pred)\n",
    "print(\"Accuracy:\", accuracy)\n",
    "final_model = LogisticRegression(random_state=42, solver='liblinear', penalty='l2', C=1.0)\n",
    "final_model.fit(X_encoded, y)\n",
    "y_pred_test = final_model.predict(X_test)\n",
    "test_accuracy = accuracy_score(y_test, y_pred_test)\n",
    "print(\"Test Accuracy:\", test_accuracy)\n"
   ]
  },
  {
   "cell_type": "code",
   "execution_count": 8,
   "metadata": {},
   "outputs": [
    {
     "ename": "ValueError",
     "evalue": "array length 144116 does not match index length 720579",
     "output_type": "error",
     "traceback": [
      "\u001b[0;31m---------------------------------------------------------------------------\u001b[0m",
      "\u001b[0;31mValueError\u001b[0m                                Traceback (most recent call last)",
      "Cell \u001b[0;32mIn[8], line 6\u001b[0m\n\u001b[1;32m      2\u001b[0m \u001b[39mimport\u001b[39;00m \u001b[39mnumpy\u001b[39;00m \u001b[39mas\u001b[39;00m \u001b[39mnp\u001b[39;00m\n\u001b[1;32m      3\u001b[0m \u001b[39mimport\u001b[39;00m \u001b[39mpandas\u001b[39;00m \u001b[39mas\u001b[39;00m \u001b[39mpd\u001b[39;00m\n\u001b[0;32m----> 6\u001b[0m arrests_df \u001b[39m=\u001b[39m pd\u001b[39m.\u001b[39mDataFrame({\u001b[39m'\u001b[39m\u001b[39mRegionName\u001b[39m\u001b[39m'\u001b[39m: crime_data_2021_present[\u001b[39m'\u001b[39m\u001b[39mRegionName\u001b[39m\u001b[39m'\u001b[39m], \n\u001b[1;32m      7\u001b[0m                            \u001b[39m'\u001b[39m\u001b[39mActual\u001b[39m\u001b[39m'\u001b[39m: y_test, \n\u001b[1;32m      8\u001b[0m                            \u001b[39m'\u001b[39m\u001b[39mPredicted\u001b[39m\u001b[39m'\u001b[39m: y_pred_test})\n\u001b[1;32m     11\u001b[0m arrests_grouped \u001b[39m=\u001b[39m arrests_df\u001b[39m.\u001b[39mgroupby(\u001b[39m'\u001b[39m\u001b[39mRegionName\u001b[39m\u001b[39m'\u001b[39m)\u001b[39m.\u001b[39msum()\u001b[39m.\u001b[39mreset_index()\n\u001b[1;32m     12\u001b[0m plt\u001b[39m.\u001b[39mfigure(figsize\u001b[39m=\u001b[39m(\u001b[39m10\u001b[39m, \u001b[39m6\u001b[39m))\n",
      "File \u001b[0;32m~/anaconda3/lib/python3.11/site-packages/pandas/core/frame.py:709\u001b[0m, in \u001b[0;36mDataFrame.__init__\u001b[0;34m(self, data, index, columns, dtype, copy)\u001b[0m\n\u001b[1;32m    703\u001b[0m     mgr \u001b[39m=\u001b[39m \u001b[39mself\u001b[39m\u001b[39m.\u001b[39m_init_mgr(\n\u001b[1;32m    704\u001b[0m         data, axes\u001b[39m=\u001b[39m{\u001b[39m\"\u001b[39m\u001b[39mindex\u001b[39m\u001b[39m\"\u001b[39m: index, \u001b[39m\"\u001b[39m\u001b[39mcolumns\u001b[39m\u001b[39m\"\u001b[39m: columns}, dtype\u001b[39m=\u001b[39mdtype, copy\u001b[39m=\u001b[39mcopy\n\u001b[1;32m    705\u001b[0m     )\n\u001b[1;32m    707\u001b[0m \u001b[39melif\u001b[39;00m \u001b[39misinstance\u001b[39m(data, \u001b[39mdict\u001b[39m):\n\u001b[1;32m    708\u001b[0m     \u001b[39m# GH#38939 de facto copy defaults to False only in non-dict cases\u001b[39;00m\n\u001b[0;32m--> 709\u001b[0m     mgr \u001b[39m=\u001b[39m dict_to_mgr(data, index, columns, dtype\u001b[39m=\u001b[39mdtype, copy\u001b[39m=\u001b[39mcopy, typ\u001b[39m=\u001b[39mmanager)\n\u001b[1;32m    710\u001b[0m \u001b[39melif\u001b[39;00m \u001b[39misinstance\u001b[39m(data, ma\u001b[39m.\u001b[39mMaskedArray):\n\u001b[1;32m    711\u001b[0m     \u001b[39mfrom\u001b[39;00m \u001b[39mnumpy\u001b[39;00m\u001b[39m.\u001b[39;00m\u001b[39mma\u001b[39;00m \u001b[39mimport\u001b[39;00m mrecords\n",
      "File \u001b[0;32m~/anaconda3/lib/python3.11/site-packages/pandas/core/internals/construction.py:481\u001b[0m, in \u001b[0;36mdict_to_mgr\u001b[0;34m(data, index, columns, dtype, typ, copy)\u001b[0m\n\u001b[1;32m    477\u001b[0m     \u001b[39melse\u001b[39;00m:\n\u001b[1;32m    478\u001b[0m         \u001b[39m# dtype check to exclude e.g. range objects, scalars\u001b[39;00m\n\u001b[1;32m    479\u001b[0m         arrays \u001b[39m=\u001b[39m [x\u001b[39m.\u001b[39mcopy() \u001b[39mif\u001b[39;00m \u001b[39mhasattr\u001b[39m(x, \u001b[39m\"\u001b[39m\u001b[39mdtype\u001b[39m\u001b[39m\"\u001b[39m) \u001b[39melse\u001b[39;00m x \u001b[39mfor\u001b[39;00m x \u001b[39min\u001b[39;00m arrays]\n\u001b[0;32m--> 481\u001b[0m \u001b[39mreturn\u001b[39;00m arrays_to_mgr(arrays, columns, index, dtype\u001b[39m=\u001b[39mdtype, typ\u001b[39m=\u001b[39mtyp, consolidate\u001b[39m=\u001b[39mcopy)\n",
      "File \u001b[0;32m~/anaconda3/lib/python3.11/site-packages/pandas/core/internals/construction.py:115\u001b[0m, in \u001b[0;36marrays_to_mgr\u001b[0;34m(arrays, columns, index, dtype, verify_integrity, typ, consolidate)\u001b[0m\n\u001b[1;32m    112\u001b[0m \u001b[39mif\u001b[39;00m verify_integrity:\n\u001b[1;32m    113\u001b[0m     \u001b[39m# figure out the index, if necessary\u001b[39;00m\n\u001b[1;32m    114\u001b[0m     \u001b[39mif\u001b[39;00m index \u001b[39mis\u001b[39;00m \u001b[39mNone\u001b[39;00m:\n\u001b[0;32m--> 115\u001b[0m         index \u001b[39m=\u001b[39m _extract_index(arrays)\n\u001b[1;32m    116\u001b[0m     \u001b[39melse\u001b[39;00m:\n\u001b[1;32m    117\u001b[0m         index \u001b[39m=\u001b[39m ensure_index(index)\n",
      "File \u001b[0;32m~/anaconda3/lib/python3.11/site-packages/pandas/core/internals/construction.py:668\u001b[0m, in \u001b[0;36m_extract_index\u001b[0;34m(data)\u001b[0m\n\u001b[1;32m    663\u001b[0m     \u001b[39mif\u001b[39;00m lengths[\u001b[39m0\u001b[39m] \u001b[39m!=\u001b[39m \u001b[39mlen\u001b[39m(index):\n\u001b[1;32m    664\u001b[0m         msg \u001b[39m=\u001b[39m (\n\u001b[1;32m    665\u001b[0m             \u001b[39mf\u001b[39m\u001b[39m\"\u001b[39m\u001b[39marray length \u001b[39m\u001b[39m{\u001b[39;00mlengths[\u001b[39m0\u001b[39m]\u001b[39m}\u001b[39;00m\u001b[39m does not match index \u001b[39m\u001b[39m\"\u001b[39m\n\u001b[1;32m    666\u001b[0m             \u001b[39mf\u001b[39m\u001b[39m\"\u001b[39m\u001b[39mlength \u001b[39m\u001b[39m{\u001b[39;00m\u001b[39mlen\u001b[39m(index)\u001b[39m}\u001b[39;00m\u001b[39m\"\u001b[39m\n\u001b[1;32m    667\u001b[0m         )\n\u001b[0;32m--> 668\u001b[0m         \u001b[39mraise\u001b[39;00m \u001b[39mValueError\u001b[39;00m(msg)\n\u001b[1;32m    669\u001b[0m \u001b[39melse\u001b[39;00m:\n\u001b[1;32m    670\u001b[0m     index \u001b[39m=\u001b[39m default_index(lengths[\u001b[39m0\u001b[39m])\n",
      "\u001b[0;31mValueError\u001b[0m: array length 144116 does not match index length 720579"
     ]
    }
   ],
   "source": [
    "import matplotlib.pyplot as plt\n",
    "import numpy as np\n",
    "import pandas as pd\n",
    "\n",
    "\n",
    "print(len(crime_data_2021_present['RegionName']))\n",
    "print(len(y_test))\n",
    "print(len(y_pred_test))\n",
    "\n",
    "arrests_df = pd.DataFrame({'RegionName': crime_data_2021_present['RegionName'], \n",
    "                           'Actual': y_test, \n",
    "                           'Predicted': y_pred_test})\n",
    "\n",
    "\n",
    "arrests_grouped = arrests_df.groupby('RegionName').sum().reset_index()\n",
    "plt.figure(figsize=(10, 6))\n",
    "plt.bar(arrests_grouped['RegionName'], arrests_grouped['Actual'], width=0.4, label='Actual')\n",
    "plt.bar(arrests_grouped['RegionName'], arrests_grouped['Predicted'], width=0.4, label='Predicted', alpha=0.5)\n",
    "plt.xlabel('Region Name')\n",
    "plt.ylabel('Count')\n",
    "plt.title('Actual vs Predicted Arrests by Region Name')\n",
    "plt.xticks(rotation=90)\n",
    "plt.legend()\n",
    "plt.tight_layout()\n",
    "plt.show()\n"
   ]
  }
 ],
 "metadata": {
  "kernelspec": {
   "display_name": "base",
   "language": "python",
   "name": "python3"
  },
  "language_info": {
   "codemirror_mode": {
    "name": "ipython",
    "version": 3
   },
   "file_extension": ".py",
   "mimetype": "text/x-python",
   "name": "python",
   "nbconvert_exporter": "python",
   "pygments_lexer": "ipython3",
   "version": "3.11.5"
  },
  "orig_nbformat": 4
 },
 "nbformat": 4,
 "nbformat_minor": 2
}
