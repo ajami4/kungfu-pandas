{
 "cells": [
  {
   "cell_type": "markdown",
   "metadata": {},
   "source": [
    "# Exploratory Data Analysis\n"
   ]
  },
  {
   "cell_type": "code",
   "execution_count": 2,
   "metadata": {},
   "outputs": [],
   "source": [
    "import pandas as pd\n",
    "import numpy as np\n",
    "from EDA_pr import *"
   ]
  },
  {
   "cell_type": "markdown",
   "metadata": {},
   "source": [
    "### EDA for crimes from 2017-2019\n"
   ]
  },
  {
   "cell_type": "code",
   "execution_count": 3,
   "metadata": {},
   "outputs": [
    {
     "name": "stdout",
     "output_type": "stream",
     "text": [
      "<class 'pandas.core.frame.DataFrame'>\n",
      "RangeIndex: 785236 entries, 0 to 785235\n",
      "Data columns (total 7 columns):\n",
      " #   Column                Non-Null Count   Dtype  \n",
      "---  ------                --------------   -----  \n",
      " 0   ID                    785236 non-null  int64  \n",
      " 1   New_Date              785236 non-null  object \n",
      " 2   Primary Type          785236 non-null  object \n",
      " 3   Location Description  785236 non-null  object \n",
      " 4   Arrest                785236 non-null  int64  \n",
      " 5   Community Area        785236 non-null  float64\n",
      " 6   RegionName            785236 non-null  object \n",
      "dtypes: float64(1), int64(2), object(4)\n",
      "memory usage: 41.9+ MB\n"
     ]
    }
   ],
   "source": [
    "crime_data_2017_2019_EDA = pd.read_csv('csv_files/Crimes_2017_to_2019.csv')\n",
    "crime_data_2017_2019_EDA.info()"
   ]
  },
  {
   "cell_type": "code",
   "execution_count": 79,
   "metadata": {},
   "outputs": [],
   "source": [
    "neighborhood_2017_2019 = pd.read_csv('csv_files/neighborhood_data_2017_2019.csv')\n",
    "neighborhood_2021_present = pd.read_csv('csv_files/neighborhood_data_2021_present.csv')"
   ]
  },
  {
   "cell_type": "code",
   "execution_count": 5,
   "metadata": {},
   "outputs": [
    {
     "data": {
      "text/html": [
       "<div>\n",
       "<style scoped>\n",
       "    .dataframe tbody tr th:only-of-type {\n",
       "        vertical-align: middle;\n",
       "    }\n",
       "\n",
       "    .dataframe tbody tr th {\n",
       "        vertical-align: top;\n",
       "    }\n",
       "\n",
       "    .dataframe thead th {\n",
       "        text-align: right;\n",
       "    }\n",
       "</style>\n",
       "<table border=\"1\" class=\"dataframe\">\n",
       "  <thead>\n",
       "    <tr style=\"text-align: right;\">\n",
       "      <th></th>\n",
       "      <th>ID</th>\n",
       "      <th>New_Date</th>\n",
       "      <th>Primary Type</th>\n",
       "      <th>Location Description</th>\n",
       "      <th>Arrest</th>\n",
       "      <th>Community Area</th>\n",
       "      <th>RegionName</th>\n",
       "    </tr>\n",
       "  </thead>\n",
       "  <tbody>\n",
       "    <tr>\n",
       "      <th>0</th>\n",
       "      <td>12098557</td>\n",
       "      <td>2019-02-01 00:01:00</td>\n",
       "      <td>BATTERY</td>\n",
       "      <td>RESIDENCE</td>\n",
       "      <td>0</td>\n",
       "      <td>63.0</td>\n",
       "      <td>Gage Park</td>\n",
       "    </tr>\n",
       "    <tr>\n",
       "      <th>1</th>\n",
       "      <td>12082526</td>\n",
       "      <td>2019-09-24 12:00:00</td>\n",
       "      <td>DECEPTIVE PRACTICE</td>\n",
       "      <td>RESIDENCE</td>\n",
       "      <td>0</td>\n",
       "      <td>3.0</td>\n",
       "      <td>Uptown</td>\n",
       "    </tr>\n",
       "    <tr>\n",
       "      <th>2</th>\n",
       "      <td>11859264</td>\n",
       "      <td>2019-10-13 06:40:00</td>\n",
       "      <td>CRIMINAL DAMAGE</td>\n",
       "      <td>APARTMENT</td>\n",
       "      <td>0</td>\n",
       "      <td>29.0</td>\n",
       "      <td>North Lawndale</td>\n",
       "    </tr>\n",
       "    <tr>\n",
       "      <th>3</th>\n",
       "      <td>11662417</td>\n",
       "      <td>2019-04-21 12:30:00</td>\n",
       "      <td>ROBBERY</td>\n",
       "      <td>RESIDENCE</td>\n",
       "      <td>0</td>\n",
       "      <td>44.0</td>\n",
       "      <td>Chatham</td>\n",
       "    </tr>\n",
       "    <tr>\n",
       "      <th>4</th>\n",
       "      <td>12990873</td>\n",
       "      <td>2019-08-17 13:14:00</td>\n",
       "      <td>OFFENSE INVOLVING CHILDREN</td>\n",
       "      <td>RESIDENCE</td>\n",
       "      <td>1</td>\n",
       "      <td>23.0</td>\n",
       "      <td>Humboldt Park</td>\n",
       "    </tr>\n",
       "    <tr>\n",
       "      <th>...</th>\n",
       "      <td>...</td>\n",
       "      <td>...</td>\n",
       "      <td>...</td>\n",
       "      <td>...</td>\n",
       "      <td>...</td>\n",
       "      <td>...</td>\n",
       "      <td>...</td>\n",
       "    </tr>\n",
       "    <tr>\n",
       "      <th>785251</th>\n",
       "      <td>12022897</td>\n",
       "      <td>2019-12-05 00:00:00</td>\n",
       "      <td>DECEPTIVE PRACTICE</td>\n",
       "      <td>RESIDENCE</td>\n",
       "      <td>0</td>\n",
       "      <td>34.0</td>\n",
       "      <td>Armour Square</td>\n",
       "    </tr>\n",
       "    <tr>\n",
       "      <th>785252</th>\n",
       "      <td>12056523</td>\n",
       "      <td>2019-12-20 09:00:00</td>\n",
       "      <td>DECEPTIVE PRACTICE</td>\n",
       "      <td>RESIDENCE</td>\n",
       "      <td>1</td>\n",
       "      <td>8.0</td>\n",
       "      <td>Near North Side</td>\n",
       "    </tr>\n",
       "    <tr>\n",
       "      <th>785253</th>\n",
       "      <td>12056116</td>\n",
       "      <td>2019-04-09 00:00:00</td>\n",
       "      <td>OFFENSE INVOLVING CHILDREN</td>\n",
       "      <td>RESIDENCE</td>\n",
       "      <td>0</td>\n",
       "      <td>48.0</td>\n",
       "      <td>Calumet Heights</td>\n",
       "    </tr>\n",
       "    <tr>\n",
       "      <th>785254</th>\n",
       "      <td>12166069</td>\n",
       "      <td>2019-02-01 09:00:00</td>\n",
       "      <td>DECEPTIVE PRACTICE</td>\n",
       "      <td>RESIDENCE</td>\n",
       "      <td>0</td>\n",
       "      <td>16.0</td>\n",
       "      <td>Irving Park</td>\n",
       "    </tr>\n",
       "    <tr>\n",
       "      <th>785255</th>\n",
       "      <td>12002967</td>\n",
       "      <td>2018-05-06 16:58:00</td>\n",
       "      <td>OFFENSE INVOLVING CHILDREN</td>\n",
       "      <td>RESIDENCE</td>\n",
       "      <td>0</td>\n",
       "      <td>30.0</td>\n",
       "      <td>South Lawndale</td>\n",
       "    </tr>\n",
       "  </tbody>\n",
       "</table>\n",
       "<p>785256 rows × 7 columns</p>\n",
       "</div>"
      ],
      "text/plain": [
       "              ID             New_Date                Primary Type  \\\n",
       "0       12098557  2019-02-01 00:01:00                     BATTERY   \n",
       "1       12082526  2019-09-24 12:00:00          DECEPTIVE PRACTICE   \n",
       "2       11859264  2019-10-13 06:40:00             CRIMINAL DAMAGE   \n",
       "3       11662417  2019-04-21 12:30:00                     ROBBERY   \n",
       "4       12990873  2019-08-17 13:14:00  OFFENSE INVOLVING CHILDREN   \n",
       "...          ...                  ...                         ...   \n",
       "785251  12022897  2019-12-05 00:00:00          DECEPTIVE PRACTICE   \n",
       "785252  12056523  2019-12-20 09:00:00          DECEPTIVE PRACTICE   \n",
       "785253  12056116  2019-04-09 00:00:00  OFFENSE INVOLVING CHILDREN   \n",
       "785254  12166069  2019-02-01 09:00:00          DECEPTIVE PRACTICE   \n",
       "785255  12002967  2018-05-06 16:58:00  OFFENSE INVOLVING CHILDREN   \n",
       "\n",
       "       Location Description  Arrest  Community Area       RegionName  \n",
       "0                 RESIDENCE       0            63.0        Gage Park  \n",
       "1                 RESIDENCE       0             3.0           Uptown  \n",
       "2                 APARTMENT       0            29.0   North Lawndale  \n",
       "3                 RESIDENCE       0            44.0          Chatham  \n",
       "4                 RESIDENCE       1            23.0    Humboldt Park  \n",
       "...                     ...     ...             ...              ...  \n",
       "785251            RESIDENCE       0            34.0    Armour Square  \n",
       "785252            RESIDENCE       1             8.0  Near North Side  \n",
       "785253            RESIDENCE       0            48.0  Calumet Heights  \n",
       "785254            RESIDENCE       0            16.0      Irving Park  \n",
       "785255            RESIDENCE       0            30.0   South Lawndale  \n",
       "\n",
       "[785256 rows x 7 columns]"
      ]
     },
     "execution_count": 5,
     "metadata": {},
     "output_type": "execute_result"
    }
   ],
   "source": [
    "crime_data_2017_2019_EDA"
   ]
  },
  {
   "cell_type": "code",
   "execution_count": 9,
   "metadata": {},
   "outputs": [
    {
     "name": "stdout",
     "output_type": "stream",
     "text": [
      "The neighborhood with the most reported crime: Austin\n",
      "The neighborhood with the least reported crime: Edison Park\n",
      "The most common type of crime commited: THEFT\n",
      "The type of crime that happens the least: NON-CRIMINAL (SUBJECT SPECIFIED)\n"
     ]
    },
    {
     "ename": "NameError",
     "evalue": "name 'get_neighborhood_price_stats' is not defined",
     "output_type": "error",
     "traceback": [
      "\u001b[0;31m---------------------------------------------------------------------------\u001b[0m",
      "\u001b[0;31mNameError\u001b[0m                                 Traceback (most recent call last)",
      "Cell \u001b[0;32mIn[9], line 13\u001b[0m\n\u001b[1;32m      9\u001b[0m \u001b[38;5;28mprint\u001b[39m(\u001b[38;5;124m'\u001b[39m\u001b[38;5;124mThe most common type of crime commited:\u001b[39m\u001b[38;5;124m'\u001b[39m, get_max(\u001b[38;5;124m'\u001b[39m\u001b[38;5;124mPrimary Type\u001b[39m\u001b[38;5;124m'\u001b[39m, crime_data_2017_2019_EDA))\n\u001b[1;32m     10\u001b[0m \u001b[38;5;28mprint\u001b[39m(\u001b[38;5;124m'\u001b[39m\u001b[38;5;124mThe type of crime that happens the least:\u001b[39m\u001b[38;5;124m'\u001b[39m, get_min(\u001b[38;5;124m'\u001b[39m\u001b[38;5;124mPrimary Type\u001b[39m\u001b[38;5;124m'\u001b[39m, crime_data_2017_2019_EDA))\n\u001b[0;32m---> 13\u001b[0m get_neighborhood_price_stats(crime_data_2017_2019_EDA)\n",
      "\u001b[0;31mNameError\u001b[0m: name 'get_neighborhood_price_stats' is not defined"
     ]
    }
   ],
   "source": [
    "crime_data_2017_2019_EDA.describe()\n",
    "\n",
    "# This finds the region where most crimes where reported\n",
    "region = crime_data_2017_2019_EDA['RegionName'].mode()\n",
    "\n",
    "print('The neighborhood with the most reported crime:', get_max('RegionName', crime_data_2017_2019_EDA))\n",
    "print('The neighborhood with the least reported crime:', get_min('RegionName', crime_data_2017_2019_EDA))\n",
    "\n",
    "print('The most common type of crime commited:', get_max('Primary Type', crime_data_2017_2019_EDA))\n",
    "print('The type of crime that happens the least:', get_min('Primary Type', crime_data_2017_2019_EDA))\n",
    "\n",
    "\n",
    "get_neighborhood_price_stats(crime_data_2017_2019_EDA)\n",
    "\n",
    "\n",
    "\n",
    "# get current most expensive and cheapest neigborhood. (DONE)\n",
    "# find a correlation between crime and the price of house in the neighborhoods. \n",
    "# find the arrest made for expensive and cheap neighbor hood (Pre Covid, Post Covid)\n",
    "# What is the most common location description of where the crime took place "
   ]
  }
 ],
 "metadata": {
  "kernelspec": {
   "display_name": "cs418env",
   "language": "python",
   "name": "python3"
  },
  "language_info": {
   "codemirror_mode": {
    "name": "ipython",
    "version": 3
   },
   "file_extension": ".py",
   "mimetype": "text/x-python",
   "name": "python",
   "nbconvert_exporter": "python",
   "pygments_lexer": "ipython3",
   "version": "3.11.5"
  }
 },
 "nbformat": 4,
 "nbformat_minor": 2
}
