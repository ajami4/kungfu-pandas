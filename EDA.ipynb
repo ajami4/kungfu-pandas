{
 "cells": [
  {
   "cell_type": "markdown",
   "metadata": {},
   "source": [
    "# Exploratory Data Analysis\n"
   ]
  },
  {
   "cell_type": "code",
   "execution_count": 1,
   "metadata": {},
   "outputs": [],
   "source": [
    "import pandas as pd\n",
    "import numpy as np"
   ]
  },
  {
   "cell_type": "markdown",
   "metadata": {},
   "source": [
    "### EDA for crimes from 2017-2019\n"
   ]
  },
  {
   "cell_type": "code",
   "execution_count": 3,
   "metadata": {},
   "outputs": [
    {
     "name": "stdout",
     "output_type": "stream",
     "text": [
      "<class 'pandas.core.frame.DataFrame'>\n",
      "RangeIndex: 785256 entries, 0 to 785255\n",
      "Data columns (total 7 columns):\n",
      " #   Column                Non-Null Count   Dtype  \n",
      "---  ------                --------------   -----  \n",
      " 0   ID                    785256 non-null  int64  \n",
      " 1   New_Date              785256 non-null  object \n",
      " 2   Primary Type          785256 non-null  object \n",
      " 3   Location Description  785256 non-null  object \n",
      " 4   Arrest                785256 non-null  int64  \n",
      " 5   Community Area        785256 non-null  float64\n",
      " 6   RegionName            785256 non-null  object \n",
      "dtypes: float64(1), int64(2), object(4)\n",
      "memory usage: 41.9+ MB\n"
     ]
    }
   ],
   "source": [
    "crime_data_2017_2019_EDA = pd.read_csv('csv_files/Crimes_2017_to_2019.csv')\n",
    "crime_data_2017_2019_EDA.info()"
   ]
  },
  {
   "cell_type": "code",
   "execution_count": 17,
   "metadata": {},
   "outputs": [],
   "source": [
    "def get_max(col_name):\n",
    "    map = {}\n",
    "    temp = crime_data_2017_2019_EDA[col_name].to_list()\n",
    "    for i in temp:\n",
    "        if i in map:\n",
    "            map[i] += 1\n",
    "        else:\n",
    "            map[i] = 1\n",
    "\n",
    "    max = float('-inf')\n",
    "    key = ''\n",
    "    for x, y in map.items():\n",
    "        if y > max:\n",
    "            max = y\n",
    "            key = x\n",
    "    return key\n",
    "\n",
    "def get_min(col_name):\n",
    "    map = {}\n",
    "    temp = crime_data_2017_2019_EDA[col_name].to_list()\n",
    "    for i in temp:\n",
    "        if i in map:\n",
    "            map[i] += 1\n",
    "        else:\n",
    "            map[i] = 1\n",
    "\n",
    "    min = float('inf')\n",
    "    key = ''\n",
    "    for x, y in map.items():\n",
    "        if y < min:\n",
    "            min = y\n",
    "            key = x\n",
    "    return key"
   ]
  },
  {
   "cell_type": "code",
   "execution_count": 19,
   "metadata": {},
   "outputs": [
    {
     "name": "stdout",
     "output_type": "stream",
     "text": [
      "The neighborhood with the most reported crime:  Austin\n",
      "The neighborhood with the least reported crime:  Edison Park\n",
      "THEFT\n",
      "NON-CRIMINAL (SUBJECT SPECIFIED)\n"
     ]
    }
   ],
   "source": [
    "crime_data_2017_2019_EDA.describe()\n",
    "\n",
    "# This finds the region where most crimes where reported\n",
    "region = crime_data_2017_2019_EDA['RegionName'].mode()\n",
    "\n",
    "print('The neighborhood with the most reported crime:', get_max('RegionName'))\n",
    "print('The neighborhood with the least reported crime:', get_min('RegionName'))\n",
    "\n",
    "print('The  most common type of crime commited:', get_max('Primary Type'))\n",
    "print(get_min('Primary Type'))\n",
    "\n",
    "# get the min, max, range, average price for all neighborhoods and their specifications\n",
    "# get current most expensive and cheapest neigborhood. \n",
    "# find a correlation between crime and the price of house in the neighborhoods. \n",
    "# find the arrest made for expensive and cheap neighbor hood\n",
    "# What is the location description of where the crime took place"
   ]
  }
 ],
 "metadata": {
  "kernelspec": {
   "display_name": "cs418env",
   "language": "python",
   "name": "python3"
  },
  "language_info": {
   "codemirror_mode": {
    "name": "ipython",
    "version": 3
   },
   "file_extension": ".py",
   "mimetype": "text/x-python",
   "name": "python",
   "nbconvert_exporter": "python",
   "pygments_lexer": "ipython3",
   "version": "3.11.5"
  }
 },
 "nbformat": 4,
 "nbformat_minor": 2
}
